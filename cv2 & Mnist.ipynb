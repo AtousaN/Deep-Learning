{
 "cells": [
  {
   "cell_type": "markdown",
   "metadata": {},
   "source": [
    "# Question 1"
   ]
  },
  {
   "cell_type": "code",
   "execution_count": 3,
   "metadata": {},
   "outputs": [],
   "source": [
    "import cv2\n",
    "import numpy as np\n",
    "\n",
    "image = cv2.imread('Face.jpg')\n",
    "\n",
    "cv2.imshow('Original Image', image)\n",
    "cv2.waitKey(0)\n",
    "\n",
    "# Making a sqare\n",
    "cv2.rectangle(image, (300, 50), (650, 500), 100, -1)\n",
    "cv2.imshow(\"Square\", image)\n",
    "cv2.waitKey(0)\n",
    "\n",
    "cv2.destroyAllWindows()"
   ]
  },
  {
   "cell_type": "markdown",
   "metadata": {},
   "source": [
    "# Question 2"
   ]
  },
  {
   "cell_type": "code",
   "execution_count": 4,
   "metadata": {},
   "outputs": [
    {
     "data": {
      "text/plain": [
       "-1"
      ]
     },
     "execution_count": 4,
     "metadata": {},
     "output_type": "execute_result"
    }
   ],
   "source": [
    "import cv2\n",
    "import numpy as np\n",
    "\n",
    "image = cv2.imread('Face.jpg')\n",
    "\n",
    "cv2.imshow('Original Image', image)\n",
    "cv2.waitKey(0)\n",
    "\n",
    "# Creating our 3 x 3 kernel\n",
    "kernel_3x3 = np.ones((3, 3), np.float32) / 9\n",
    "\n",
    "# We use the cv2.fitler2D to conovlve the kernal with an image \n",
    "blurred = cv2.filter2D(image, -1, kernel_3x3)\n",
    "cv2.imshow('3x3 Kernel Blurring', blurred)\n",
    "cv2.waitKey(0)\n",
    "\n",
    "# Creating our 7 x 7 kernel\n",
    "kernel_7x7 = np.ones((7, 7), np.float32) / 49\n",
    "\n",
    "blurred2 = cv2.filter2D(image, -1, kernel_7x7)\n",
    "cv2.imshow('7x7 Kernel Blurring', blurred2)\n",
    "cv2.waitKey(0)\n"
   ]
  },
  {
   "cell_type": "markdown",
   "metadata": {},
   "source": [
    "# Question 3"
   ]
  },
  {
   "cell_type": "code",
   "execution_count": 6,
   "metadata": {
    "colab": {},
    "colab_type": "code",
    "executionInfo": {
     "elapsed": 2615,
     "status": "ok",
     "timestamp": 1599841924255,
     "user": {
      "displayName": "atousa n",
      "photoUrl": "https://lh3.googleusercontent.com/a-/AOh14GgasGtCWD--Qe32bcBkROLnnOpS3LnxbN_U86POOw=s64",
      "userId": "10426377340166915620"
     },
     "user_tz": -270
    },
    "id": "5fIv-uEiueeZ"
   },
   "outputs": [],
   "source": [
    "import keras\n",
    "from keras import layers\n",
    "from keras.models import Sequential\n",
    "from keras.layers import Dropout, Activation\n",
    "import numpy as np\n",
    "import matplotlib.pyplot as plt\n",
    "import pandas as pd\n",
    "%matplotlib inline"
   ]
  },
  {
   "cell_type": "code",
   "execution_count": 7,
   "metadata": {
    "colab": {},
    "colab_type": "code",
    "executionInfo": {
     "elapsed": 7409,
     "status": "ok",
     "timestamp": 1599841935315,
     "user": {
      "displayName": "atousa n",
      "photoUrl": "https://lh3.googleusercontent.com/a-/AOh14GgasGtCWD--Qe32bcBkROLnnOpS3LnxbN_U86POOw=s64",
      "userId": "10426377340166915620"
     },
     "user_tz": -270
    },
    "id": "FL8_BTYcujUY"
   },
   "outputs": [],
   "source": [
    "mnist_train = pd.read_csv('/content/drive/My Drive/Colab Notebooks/mnist_train.csv')\n",
    "mnist_test = pd.read_csv('/content/drive/My Drive/Colab Notebooks/mnist_test.csv')"
   ]
  },
  {
   "cell_type": "code",
   "execution_count": 8,
   "metadata": {
    "colab": {},
    "colab_type": "code",
    "executionInfo": {
     "elapsed": 940,
     "status": "ok",
     "timestamp": 1599841938358,
     "user": {
      "displayName": "atousa n",
      "photoUrl": "https://lh3.googleusercontent.com/a-/AOh14GgasGtCWD--Qe32bcBkROLnnOpS3LnxbN_U86POOw=s64",
      "userId": "10426377340166915620"
     },
     "user_tz": -270
    },
    "id": "EBWV91n-Plo2"
   },
   "outputs": [],
   "source": [
    "Data_train = mnist_train.to_numpy()\n",
    "Data_test = mnist_test.to_numpy()\n",
    "\n",
    "y_train = Data_train[:, 0]\n",
    "x_train = Data_train[:, 1:]\n",
    "\n",
    "x_test = Data_test[:, 1:]\n",
    "y_test = Data_test[:, 0]"
   ]
  },
  {
   "cell_type": "code",
   "execution_count": 9,
   "metadata": {
    "colab": {},
    "colab_type": "code",
    "executionInfo": {
     "elapsed": 977,
     "status": "ok",
     "timestamp": 1599841940475,
     "user": {
      "displayName": "atousa n",
      "photoUrl": "https://lh3.googleusercontent.com/a-/AOh14GgasGtCWD--Qe32bcBkROLnnOpS3LnxbN_U86POOw=s64",
      "userId": "10426377340166915620"
     },
     "user_tz": -270
    },
    "id": "wy_2HVzuSfld"
   },
   "outputs": [],
   "source": [
    "y_train = keras.utils.to_categorical(y_train, num_classes=10)\n",
    "y_test = keras.utils.to_categorical(y_test, num_classes=10)"
   ]
  },
  {
   "cell_type": "code",
   "execution_count": 10,
   "metadata": {
    "colab": {
     "base_uri": "https://localhost:8080/",
     "height": 118
    },
    "colab_type": "code",
    "executionInfo": {
     "elapsed": 619,
     "status": "ok",
     "timestamp": 1599841941934,
     "user": {
      "displayName": "atousa n",
      "photoUrl": "https://lh3.googleusercontent.com/a-/AOh14GgasGtCWD--Qe32bcBkROLnnOpS3LnxbN_U86POOw=s64",
      "userId": "10426377340166915620"
     },
     "user_tz": -270
    },
    "id": "u7Y76XneujIx",
    "outputId": "bdc42592-15d2-499d-a125-f35b4a4fe434"
   },
   "outputs": [
    {
     "name": "stdout",
     "output_type": "stream",
     "text": [
      "<class 'numpy.ndarray'>\n",
      "<class 'numpy.ndarray'>\n",
      "(60000, 784)\n",
      "(60000, 10)\n",
      "(10000, 784)\n",
      "(10000, 10)\n"
     ]
    }
   ],
   "source": [
    "print(type(x_train))\n",
    "print(type(y_train))\n",
    "print(x_train.shape)\n",
    "print(y_train.shape)\n",
    "print(x_test.shape)\n",
    "print(y_test.shape)"
   ]
  },
  {
   "cell_type": "code",
   "execution_count": 11,
   "metadata": {
    "colab": {},
    "colab_type": "code",
    "executionInfo": {
     "elapsed": 1082,
     "status": "ok",
     "timestamp": 1599841944106,
     "user": {
      "displayName": "atousa n",
      "photoUrl": "https://lh3.googleusercontent.com/a-/AOh14GgasGtCWD--Qe32bcBkROLnnOpS3LnxbN_U86POOw=s64",
      "userId": "10426377340166915620"
     },
     "user_tz": -270
    },
    "id": "SrcZmdwyR7Cs"
   },
   "outputs": [],
   "source": [
    "x_train = x_train.astype('float32')\n",
    "x_test = x_test.astype('float32')\n",
    "x_train /= 255\n",
    "x_test /= 255"
   ]
  },
  {
   "cell_type": "code",
   "execution_count": null,
   "metadata": {
    "colab": {
     "base_uri": "https://localhost:8080/",
     "height": 50
    },
    "colab_type": "code",
    "executionInfo": {
     "elapsed": 1219,
     "status": "ok",
     "timestamp": 1599831886077,
     "user": {
      "displayName": "atousa n",
      "photoUrl": "https://lh3.googleusercontent.com/a-/AOh14GgasGtCWD--Qe32bcBkROLnnOpS3LnxbN_U86POOw=s64",
      "userId": "10426377340166915620"
     },
     "user_tz": -270
    },
    "id": "-kHoc0ZkSHx-",
    "outputId": "030b559f-4255-4203-a0d4-8604e9db80dc"
   },
   "outputs": [
    {
     "name": "stdout",
     "output_type": "stream",
     "text": [
      "(60000, 28, 28, 1)\n",
      "(10000, 28, 28, 1)\n"
     ]
    }
   ],
   "source": [
    "\"\"\"\n",
    "x_train = x_train.reshape(-1,28,28,1)\n",
    "x_test = x_test.reshape(-1,28,28,1)\n",
    "\n",
    "print(x_train.shape)\n",
    "print(x_test.shape)\n",
    "\"\"\""
   ]
  },
  {
   "cell_type": "code",
   "execution_count": 12,
   "metadata": {
    "colab": {
     "base_uri": "https://localhost:8080/",
     "height": 84
    },
    "colab_type": "code",
    "executionInfo": {
     "elapsed": 890,
     "status": "ok",
     "timestamp": 1599841967299,
     "user": {
      "displayName": "atousa n",
      "photoUrl": "https://lh3.googleusercontent.com/a-/AOh14GgasGtCWD--Qe32bcBkROLnnOpS3LnxbN_U86POOw=s64",
      "userId": "10426377340166915620"
     },
     "user_tz": -270
    },
    "id": "ejz0e-TsyiJT",
    "outputId": "b705d07c-9302-416f-fd2b-fb7549480087"
   },
   "outputs": [
    {
     "name": "stdout",
     "output_type": "stream",
     "text": [
      "(12000, 784)\n",
      "(48000, 784)\n",
      "(12000, 10)\n",
      "(48000, 10)\n"
     ]
    }
   ],
   "source": [
    "x_val = x_train[48000:60000]\n",
    "x_train = x_train[:48000]\n",
    "y_val = y_train[48000:60000]\n",
    "y_train = y_train[:48000]\n",
    "\n",
    "print(x_val.shape)\n",
    "print(x_train.shape)\n",
    "print(y_val.shape)\n",
    "print(y_train.shape)"
   ]
  },
  {
   "cell_type": "code",
   "execution_count": 13,
   "metadata": {
    "colab": {},
    "colab_type": "code",
    "executionInfo": {
     "elapsed": 6577,
     "status": "ok",
     "timestamp": 1599842018243,
     "user": {
      "displayName": "atousa n",
      "photoUrl": "https://lh3.googleusercontent.com/a-/AOh14GgasGtCWD--Qe32bcBkROLnnOpS3LnxbN_U86POOw=s64",
      "userId": "10426377340166915620"
     },
     "user_tz": -270
    },
    "id": "Q3q2bZrTZOnv"
   },
   "outputs": [],
   "source": [
    "\n",
    "model = Sequential()\n",
    "model.add(layers.Dense(64, activation='relu', input_dim=784))\n",
    "model.add(Dropout(0.3))\n",
    "model.add(layers.Dense(10, activation='softmax'))\n"
   ]
  },
  {
   "cell_type": "code",
   "execution_count": null,
   "metadata": {
    "colab": {},
    "colab_type": "code",
    "id": "03Ff72stTPsZ"
   },
   "outputs": [],
   "source": [
    "\"\"\"\n",
    "model = Sequential()\n",
    "model.add(layers.Conv2D(32, (3, 3), activation='relu',\n",
    "                        input_shape=(28, 28, 1)))\n",
    "model.add(layers.MaxPooling2D((2, 2)))\n",
    "model.add(layers.Conv2D(64, (3, 3), activation='relu'))\n",
    "model.add(layers.MaxPooling2D((2, 2)))\n",
    "model.add(layers.Conv2D(64, (3, 3), activation='relu'))\n",
    "model.add(layers.Flatten())\n",
    "model.add(layers.Dense(64, activation='relu'))\n",
    "model.add(Dropout(0.5))\n",
    "model.add(layers.Dense(10, activation='softmax'))\n",
    "\"\"\"\n"
   ]
  },
  {
   "cell_type": "code",
   "execution_count": 14,
   "metadata": {
    "colab": {
     "base_uri": "https://localhost:8080/",
     "height": 252
    },
    "colab_type": "code",
    "executionInfo": {
     "elapsed": 908,
     "status": "ok",
     "timestamp": 1599842021386,
     "user": {
      "displayName": "atousa n",
      "photoUrl": "https://lh3.googleusercontent.com/a-/AOh14GgasGtCWD--Qe32bcBkROLnnOpS3LnxbN_U86POOw=s64",
      "userId": "10426377340166915620"
     },
     "user_tz": -270
    },
    "id": "Lisv1susTb89",
    "outputId": "1cc2c2fb-6e25-438f-856c-d55d0cd88c5b"
   },
   "outputs": [
    {
     "name": "stdout",
     "output_type": "stream",
     "text": [
      "Model: \"sequential\"\n",
      "_________________________________________________________________\n",
      "Layer (type)                 Output Shape              Param #   \n",
      "=================================================================\n",
      "dense (Dense)                (None, 64)                50240     \n",
      "_________________________________________________________________\n",
      "dropout (Dropout)            (None, 64)                0         \n",
      "_________________________________________________________________\n",
      "dense_1 (Dense)              (None, 10)                650       \n",
      "=================================================================\n",
      "Total params: 50,890\n",
      "Trainable params: 50,890\n",
      "Non-trainable params: 0\n",
      "_________________________________________________________________\n"
     ]
    }
   ],
   "source": [
    "model.summary()"
   ]
  },
  {
   "cell_type": "code",
   "execution_count": 15,
   "metadata": {
    "colab": {},
    "colab_type": "code",
    "executionInfo": {
     "elapsed": 1045,
     "status": "ok",
     "timestamp": 1599842026804,
     "user": {
      "displayName": "atousa n",
      "photoUrl": "https://lh3.googleusercontent.com/a-/AOh14GgasGtCWD--Qe32bcBkROLnnOpS3LnxbN_U86POOw=s64",
      "userId": "10426377340166915620"
     },
     "user_tz": -270
    },
    "id": "SdG5cxPeTmUU"
   },
   "outputs": [],
   "source": [
    "model.compile(loss='categorical_crossentropy',\n",
    "              optimizer='adam',\n",
    "              metrics=['accuracy'])\n"
   ]
  },
  {
   "cell_type": "code",
   "execution_count": 16,
   "metadata": {
    "colab": {
     "base_uri": "https://localhost:8080/",
     "height": 1000
    },
    "colab_type": "code",
    "executionInfo": {
     "elapsed": 25228,
     "status": "ok",
     "timestamp": 1599842053058,
     "user": {
      "displayName": "atousa n",
      "photoUrl": "https://lh3.googleusercontent.com/a-/AOh14GgasGtCWD--Qe32bcBkROLnnOpS3LnxbN_U86POOw=s64",
      "userId": "10426377340166915620"
     },
     "user_tz": -270
    },
    "id": "NCBad0tETx84",
    "outputId": "337decde-7024-4e24-d1e3-7468c2810c3e"
   },
   "outputs": [
    {
     "name": "stdout",
     "output_type": "stream",
     "text": [
      "Epoch 1/40\n",
      "188/188 [==============================] - 1s 4ms/step - loss: 0.7367 - accuracy: 0.7821 - val_loss: 0.3073 - val_accuracy: 0.9141\n",
      "Epoch 2/40\n",
      "188/188 [==============================] - 1s 3ms/step - loss: 0.3626 - accuracy: 0.8953 - val_loss: 0.2330 - val_accuracy: 0.9351\n",
      "Epoch 3/40\n",
      "188/188 [==============================] - 1s 3ms/step - loss: 0.2933 - accuracy: 0.9150 - val_loss: 0.1967 - val_accuracy: 0.9458\n",
      "Epoch 4/40\n",
      "188/188 [==============================] - 1s 3ms/step - loss: 0.2535 - accuracy: 0.9279 - val_loss: 0.1728 - val_accuracy: 0.9520\n",
      "Epoch 5/40\n",
      "188/188 [==============================] - 1s 3ms/step - loss: 0.2258 - accuracy: 0.9339 - val_loss: 0.1591 - val_accuracy: 0.9551\n",
      "Epoch 6/40\n",
      "188/188 [==============================] - 1s 3ms/step - loss: 0.2058 - accuracy: 0.9407 - val_loss: 0.1483 - val_accuracy: 0.9581\n",
      "Epoch 7/40\n",
      "188/188 [==============================] - 1s 3ms/step - loss: 0.1927 - accuracy: 0.9442 - val_loss: 0.1366 - val_accuracy: 0.9612\n",
      "Epoch 8/40\n",
      "188/188 [==============================] - 1s 3ms/step - loss: 0.1802 - accuracy: 0.9464 - val_loss: 0.1326 - val_accuracy: 0.9615\n",
      "Epoch 9/40\n",
      "188/188 [==============================] - 1s 3ms/step - loss: 0.1728 - accuracy: 0.9479 - val_loss: 0.1282 - val_accuracy: 0.9638\n",
      "Epoch 10/40\n",
      "188/188 [==============================] - 1s 3ms/step - loss: 0.1624 - accuracy: 0.9527 - val_loss: 0.1211 - val_accuracy: 0.9661\n",
      "Epoch 11/40\n",
      "188/188 [==============================] - 1s 3ms/step - loss: 0.1551 - accuracy: 0.9533 - val_loss: 0.1168 - val_accuracy: 0.9663\n",
      "Epoch 12/40\n",
      "188/188 [==============================] - 1s 3ms/step - loss: 0.1527 - accuracy: 0.9546 - val_loss: 0.1146 - val_accuracy: 0.9684\n",
      "Epoch 13/40\n",
      "188/188 [==============================] - 1s 3ms/step - loss: 0.1459 - accuracy: 0.9554 - val_loss: 0.1114 - val_accuracy: 0.9679\n",
      "Epoch 14/40\n",
      "188/188 [==============================] - 1s 3ms/step - loss: 0.1394 - accuracy: 0.9588 - val_loss: 0.1080 - val_accuracy: 0.9690\n",
      "Epoch 15/40\n",
      "188/188 [==============================] - 1s 3ms/step - loss: 0.1320 - accuracy: 0.9598 - val_loss: 0.1100 - val_accuracy: 0.9677\n",
      "Epoch 16/40\n",
      "188/188 [==============================] - 1s 3ms/step - loss: 0.1313 - accuracy: 0.9613 - val_loss: 0.1041 - val_accuracy: 0.9707\n",
      "Epoch 17/40\n",
      "188/188 [==============================] - 1s 3ms/step - loss: 0.1254 - accuracy: 0.9612 - val_loss: 0.1039 - val_accuracy: 0.9691\n",
      "Epoch 18/40\n",
      "188/188 [==============================] - 1s 3ms/step - loss: 0.1210 - accuracy: 0.9630 - val_loss: 0.1012 - val_accuracy: 0.9709\n",
      "Epoch 19/40\n",
      "188/188 [==============================] - 1s 3ms/step - loss: 0.1189 - accuracy: 0.9629 - val_loss: 0.1017 - val_accuracy: 0.9716\n",
      "Epoch 20/40\n",
      "188/188 [==============================] - 1s 3ms/step - loss: 0.1153 - accuracy: 0.9643 - val_loss: 0.0986 - val_accuracy: 0.9718\n",
      "Epoch 21/40\n",
      "188/188 [==============================] - 1s 3ms/step - loss: 0.1139 - accuracy: 0.9640 - val_loss: 0.0968 - val_accuracy: 0.9730\n",
      "Epoch 22/40\n",
      "188/188 [==============================] - 1s 3ms/step - loss: 0.1108 - accuracy: 0.9649 - val_loss: 0.0967 - val_accuracy: 0.9727\n",
      "Epoch 23/40\n",
      "188/188 [==============================] - 1s 3ms/step - loss: 0.1076 - accuracy: 0.9672 - val_loss: 0.0997 - val_accuracy: 0.9713\n",
      "Epoch 24/40\n",
      "188/188 [==============================] - 1s 3ms/step - loss: 0.1064 - accuracy: 0.9677 - val_loss: 0.0976 - val_accuracy: 0.9725\n",
      "Epoch 25/40\n",
      "188/188 [==============================] - 1s 3ms/step - loss: 0.1052 - accuracy: 0.9670 - val_loss: 0.0963 - val_accuracy: 0.9732\n",
      "Epoch 26/40\n",
      "188/188 [==============================] - 1s 3ms/step - loss: 0.1003 - accuracy: 0.9689 - val_loss: 0.0974 - val_accuracy: 0.9727\n",
      "Epoch 27/40\n",
      "188/188 [==============================] - 1s 3ms/step - loss: 0.0983 - accuracy: 0.9695 - val_loss: 0.0947 - val_accuracy: 0.9739\n",
      "Epoch 28/40\n",
      "188/188 [==============================] - 1s 3ms/step - loss: 0.0997 - accuracy: 0.9686 - val_loss: 0.0966 - val_accuracy: 0.9730\n",
      "Epoch 29/40\n",
      "188/188 [==============================] - 1s 3ms/step - loss: 0.0957 - accuracy: 0.9693 - val_loss: 0.0943 - val_accuracy: 0.9730\n",
      "Epoch 30/40\n",
      "188/188 [==============================] - 1s 3ms/step - loss: 0.0941 - accuracy: 0.9695 - val_loss: 0.0957 - val_accuracy: 0.9728\n",
      "Epoch 31/40\n",
      "188/188 [==============================] - 1s 3ms/step - loss: 0.0927 - accuracy: 0.9699 - val_loss: 0.0947 - val_accuracy: 0.9728\n",
      "Epoch 32/40\n",
      "188/188 [==============================] - 1s 3ms/step - loss: 0.0899 - accuracy: 0.9713 - val_loss: 0.0949 - val_accuracy: 0.9733\n",
      "Epoch 33/40\n",
      "188/188 [==============================] - 1s 3ms/step - loss: 0.0876 - accuracy: 0.9717 - val_loss: 0.0964 - val_accuracy: 0.9732\n",
      "Epoch 34/40\n",
      "188/188 [==============================] - 1s 3ms/step - loss: 0.0856 - accuracy: 0.9724 - val_loss: 0.0964 - val_accuracy: 0.9733\n",
      "Epoch 35/40\n",
      "188/188 [==============================] - 1s 3ms/step - loss: 0.0855 - accuracy: 0.9725 - val_loss: 0.0940 - val_accuracy: 0.9742\n",
      "Epoch 36/40\n",
      "188/188 [==============================] - 1s 3ms/step - loss: 0.0875 - accuracy: 0.9713 - val_loss: 0.0982 - val_accuracy: 0.9728\n",
      "Epoch 37/40\n",
      "188/188 [==============================] - 1s 3ms/step - loss: 0.0828 - accuracy: 0.9729 - val_loss: 0.0959 - val_accuracy: 0.9741\n",
      "Epoch 38/40\n",
      "188/188 [==============================] - 1s 3ms/step - loss: 0.0812 - accuracy: 0.9742 - val_loss: 0.0969 - val_accuracy: 0.9742\n",
      "Epoch 39/40\n",
      "188/188 [==============================] - 1s 3ms/step - loss: 0.0800 - accuracy: 0.9742 - val_loss: 0.0977 - val_accuracy: 0.9734\n",
      "Epoch 40/40\n",
      "188/188 [==============================] - 1s 3ms/step - loss: 0.0776 - accuracy: 0.9751 - val_loss: 0.0964 - val_accuracy: 0.9737\n"
     ]
    }
   ],
   "source": [
    "history = model.fit(x_train, y_train,\n",
    "          epochs=40, batch_size=256, validation_data=(x_val, y_val))"
   ]
  },
  {
   "cell_type": "code",
   "execution_count": 17,
   "metadata": {
    "colab": {
     "base_uri": "https://localhost:8080/",
     "height": 545
    },
    "colab_type": "code",
    "executionInfo": {
     "elapsed": 1304,
     "status": "ok",
     "timestamp": 1599842056712,
     "user": {
      "displayName": "atousa n",
      "photoUrl": "https://lh3.googleusercontent.com/a-/AOh14GgasGtCWD--Qe32bcBkROLnnOpS3LnxbN_U86POOw=s64",
      "userId": "10426377340166915620"
     },
     "user_tz": -270
    },
    "id": "S9MouSVyUNnD",
    "outputId": "56eb8cd9-c425-4c20-86e8-cac2ed1fc50f"
   },
   "outputs": [
    {
     "data": {
      "image/png": "[encoded data removed]",
      "text/plain": [
       "<Figure size 432x288 with 1 Axes>"
      ]
     },
     "metadata": {
      "needs_background": "light",
      "tags": []
     },
     "output_type": "display_data"
    },
    {
     "data": {
      "image/png": "[encoded data removed]",
      "text/plain": [
       "<Figure size 432x288 with 1 Axes>"
      ]
     },
     "metadata": {
      "needs_background": "light",
      "tags": []
     },
     "output_type": "display_data"
    }
   ],
   "source": [
    "acc = history.history['accuracy']\n",
    "val_acc = history.history['val_accuracy']\n",
    "loss = history.history['loss']\n",
    "val_loss = history.history['val_loss']\n",
    "\n",
    "epochs = range(len(acc))\n",
    "\n",
    "plt.plot(epochs, acc, 'bo', label='Training acc')\n",
    "plt.plot(epochs, val_acc, 'b', label='Validation acc')\n",
    "plt.title('Training and validation accuracy')\n",
    "plt.legend()\n",
    "\n",
    "plt.figure()\n",
    "\n",
    "plt.plot(epochs, loss, 'bo', label='Training loss')\n",
    "plt.plot(epochs, val_loss, 'b', label='Validation loss')\n",
    "plt.title('Training and validation loss')\n",
    "plt.legend()\n",
    "\n",
    "plt.show()"
   ]
  },
  {
   "cell_type": "code",
   "execution_count": 18,
   "metadata": {
    "colab": {
     "base_uri": "https://localhost:8080/",
     "height": 255
    },
    "colab_type": "code",
    "executionInfo": {
     "elapsed": 965,
     "status": "ok",
     "timestamp": 1599842062305,
     "user": {
      "displayName": "atousa n",
      "photoUrl": "https://lh3.googleusercontent.com/a-/AOh14GgasGtCWD--Qe32bcBkROLnnOpS3LnxbN_U86POOw=s64",
      "userId": "10426377340166915620"
     },
     "user_tz": -270
    },
    "id": "iH6OcXI-UTeg",
    "outputId": "1f5b855f-ed66-4535-f4ed-b47bd3034eb7"
   },
   "outputs": [
    {
     "name": "stdout",
     "output_type": "stream",
     "text": [
      "WARNING:tensorflow:From <ipython-input-18-fc772693b4b0>:1: Sequential.predict_classes (from tensorflow.python.keras.engine.sequential) is deprecated and will be removed after 2021-01-01.\n",
      "Instructions for updating:\n",
      "Please use instead:* `np.argmax(model.predict(x), axis=-1)`,   if your model does multi-class classification   (e.g. if it uses a `softmax` last-layer activation).* `(model.predict(x) > 0.5).astype(\"int32\")`,   if your model does binary classification   (e.g. if it uses a `sigmoid` last-layer activation).\n",
      "predicted:\n",
      "[7 2 1 ... 4 5 6]\n",
      "True Label:\n",
      "[[0. 0. 0. ... 1. 0. 0.]\n",
      " [0. 0. 1. ... 0. 0. 0.]\n",
      " [0. 1. 0. ... 0. 0. 0.]\n",
      " ...\n",
      " [0. 0. 0. ... 0. 0. 0.]\n",
      " [0. 0. 0. ... 0. 0. 0.]\n",
      " [0. 0. 0. ... 0. 0. 0.]]\n"
     ]
    }
   ],
   "source": [
    "predicted_classes = model.predict_classes(x_test)\n",
    "print(\"predicted:\")\n",
    "print(predicted_classes)\n",
    "print(\"True Label:\")\n",
    "print(y_test)"
   ]
  },
  {
   "cell_type": "code",
   "execution_count": 19,
   "metadata": {
    "colab": {
     "base_uri": "https://localhost:8080/",
     "height": 67
    },
    "colab_type": "code",
    "executionInfo": {
     "elapsed": 1433,
     "status": "ok",
     "timestamp": 1599842064703,
     "user": {
      "displayName": "atousa n",
      "photoUrl": "https://lh3.googleusercontent.com/a-/AOh14GgasGtCWD--Qe32bcBkROLnnOpS3LnxbN_U86POOw=s64",
      "userId": "10426377340166915620"
     },
     "user_tz": -270
    },
    "id": "Gm2J0zoqUBzi",
    "outputId": "998ef552-b4cb-49aa-89f2-8d216e03fea9"
   },
   "outputs": [
    {
     "name": "stdout",
     "output_type": "stream",
     "text": [
      "313/313 [==============================] - 1s 2ms/step - loss: 0.0936 - accuracy: 0.9723\n",
      "\n",
      "Testing loss: 0.09, acc: 0.97%\n"
     ]
    }
   ],
   "source": [
    "loss, acc = model.evaluate(x_test, y_test)\n",
    "print('\\nTesting loss: %.2f, acc: %.2f%%'%(loss, acc))"
   ]
  },
  {
   "cell_type": "code",
   "execution_count": null,
   "metadata": {
    "colab": {},
    "colab_type": "code",
    "id": "Hy8_-mptUcfd"
   },
   "outputs": [],
   "source": []
  }
 ],
 "metadata": {
  "accelerator": "GPU",
  "colab": {
   "authorship_tag": "ABX9TyNJ7h2UOaqs8LFFffHOB92m",
   "collapsed_sections": [],
   "mount_file_id": "1Q_q9cdaVBTEh4qs4-VtObVZNhZKiXKtH",
   "name": "DL-Ex0-Q3.ipynb",
   "provenance": [
    {
     "file_id": "1-i7NUZo5M-LtMp5hz_x3pOd2bKB2YH0a",
     "timestamp": 1599841605488
    },
    {
     "file_id": "1vhtESHySf3CAV2lebeSfgHhHPgck1_Ao",
     "timestamp": 1599804496787
    }
   ]
  },
  "kernelspec": {
   "display_name": "Python 3",
   "language": "python",
   "name": "python3"
  },
  "language_info": {
   "codemirror_mode": {
    "name": "ipython",
    "version": 3
   },
   "file_extension": ".py",
   "mimetype": "text/x-python",
   "name": "python",
   "nbconvert_exporter": "python",
   "pygments_lexer": "ipython3",
   "version": "3.7.7"
  }
 },
 "nbformat": 4,
 "nbformat_minor": 1
}
