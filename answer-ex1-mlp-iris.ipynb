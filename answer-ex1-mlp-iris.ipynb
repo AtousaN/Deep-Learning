{
 "cells": [
  {
   "cell_type": "markdown",
   "metadata": {
    "colab_type": "text",
    "id": "-aIkmibklrxS"
   },
   "source": [
    "<center><div style=\"direction:rtl;font-family:B Lotus, B Nazanin, Tahoma\">به نام خدا</div></center>\n",
    "\n",
    "<h1><center><div style=\"direction:rtl;font-family:B Lotus, B Nazanin, Tahoma\">تمرین عملی 1: طبقه بندی با شبکه های تمام متصل روی مجموعه داده IRIS</div></center></h1>"
   ]
  },
  {
   "cell_type": "markdown",
   "metadata": {
    "colab_type": "text",
    "id": "qq51EUsMlrxT"
   },
   "source": [
    "## <div style=\"direction:rtl;text-align:right;font-family:B Lotus, B Nazanin, Tahoma\">صورت مساله</div>\n",
    "\n",
    "\n",
    "<div style=\"direction:rtl;text-align:right;font-family:Tahoma\">\n",
    "در اولین جلسه کارگاه طبقه بندی با شبکه های تمام متصل را دیدیم.\n",
    "<br>\n",
    "توصیه می‌شود حتما نوت بوک‌های زیر را قبل از این تمرین مرور کنید:\n",
    "</div>\n",
    "\n",
    "[04_a Gentle Introduction to Keras - Simple neural network(mlp).ipynb](https://nbviewer.jupyter.org/github/alireza-akhavan/SRU-deeplearning-workshop/blob/master/04_a%20Gentle%20Introduction%20to%20Keras%20-%20Simple%20neural%20network%28mlp%29.ipynb)\n",
    "\n",
    "[05_Dropout.ipynb](https://nbviewer.jupyter.org/github/alireza-akhavan/SRU-deeplearning-workshop/blob/master/05_Dropout.ipynb)\n",
    "\n",
    "<div style=\"direction:rtl;text-align:right;font-family:Tahoma\">\n",
    "در این جلسه با داده های تصویری آشنا شدیم. اما در این تمرین برای اینکه بدانیم کاربرد این مباحث در مسائل غیر تصویری نیز هست  از مجموعه داده ی ساختار یافتهiris  شامل 4 ویژگی برای طول و عرض کاسبرگ و گلبرگ استفاده خواهیم کرد که بتوانیم بر اساس این ویژگی ها نوع گل را از 3 کلاس متفاوت تشخیص دهیم.\n",
    "</div>"
   ]
  },
  {
   "cell_type": "markdown",
   "metadata": {
    "colab_type": "text",
    "id": "H4OqnKFilrxU"
   },
   "source": [
    "## <div style=\"direction:rtl;text-align:right;font-family:B Lotus, B Nazanin, Tahoma\">لود کتابخانه های مورد نیاز </div>\n",
    "<div style=\"direction:rtl;text-align:right;font-family:Tahoma\">\n",
    "کتابخانه های مورد نیاز این تمرین لود شده اند\n",
    "<br>\n",
    "در صورت نیاز میتوانید کتابخانه های بیشتری لود کنید:\n",
    "</div>"
   ]
  },
  {
   "cell_type": "code",
   "execution_count": null,
   "metadata": {
    "colab": {},
    "colab_type": "code",
    "id": "76fr_hXdlrxV"
   },
   "outputs": [],
   "source": [
    "import numpy as np\n",
    "import keras\n",
    "from sklearn.datasets import load_iris\n",
    "from sklearn.model_selection import train_test_split\n",
    "from keras.models import Sequential\n",
    "from keras.layers import Dense, Dropout\n",
    "from keras.optimizers import Adam"
   ]
  },
  {
   "cell_type": "markdown",
   "metadata": {
    "colab_type": "text",
    "id": "yzKsAhsIlrxc"
   },
   "source": [
    "<div style=\"direction:rtl;text-align:right;font-family:Tahoma\">\n",
    "در این تمرین میخواهیم از مجموعه داده iris استفاده کنیم.\n",
    "<br>\n",
    "توضیحات این مجموعه داده در سایت آن موجود است:\n",
    "</div>\n",
    "\n",
    "https://archive.ics.uci.edu/ml/datasets/iris\n",
    "\n",
    "\n",
    "<div style=\"direction:rtl;text-align:right;font-family:Tahoma\">\n",
    "ویژگی ها و کلاس های این مجموعه داده به شرح زیر است:\n",
    "</div>\n",
    "\n",
    "Attribute Information:\n",
    "\n",
    "1. sepal length in cm\n",
    "2. sepal width in cm\n",
    "3. petal length in cm\n",
    "4. petal width in cm\n",
    "\n",
    "class:\n",
    "\n",
    "    Iris Setosa\n",
    "    Iris Versicolour\n",
    "    Iris Virginica\n",
    "\n",
    "<div style=\"direction:rtl;text-align:right;font-family:Tahoma\">\n",
    "این دیتاست در کتابخانه sklearn موجود است\n",
    "<br>\n",
    "در قطعه کد زیر ویژگی ها را در x و برچسب یا labelهای متناظر را در y لود شده است.\n",
    "</div>"
   ]
  },
  {
   "cell_type": "code",
   "execution_count": null,
   "metadata": {
    "colab": {},
    "colab_type": "code",
    "id": "_J7OGEWclrxc"
   },
   "outputs": [],
   "source": [
    "iris_data = load_iris() # load the iris dataset\n",
    "x = iris_data.data\n",
    "y = iris_data.target.reshape(-1, 1) # Convert data to a single column"
   ]
  },
  {
   "cell_type": "markdown",
   "metadata": {
    "colab_type": "text",
    "id": "jNWUVDW-lrxf"
   },
   "source": [
    "# <div style=\"direction:rtl;text-align:right;font-family:B Lotus, B Nazanin, Tahoma\">سوال 1:</div>\n",
    "<div style=\"direction:rtl;text-align:right;font-family:Tahoma\">\n",
    "برچسب یا label های ما در حال حاضر عددی است.\n",
    "<br>\n",
    "این اعداد 0 تا 2 هستند و به عبارتی 3 حالت مختلف دارند.\n",
    "<br>\n",
    "این برچسب ها را به فرمت one-hot تبدیل کنید و خروجی را مجدد در y بریزید.\n",
    "\n",
    "<br>\n",
    "<b>راهنمایی: </b>\n",
    "از تابع keras.utils.to_categorical استفاده کنید.\n",
    "</div>"
   ]
  },
  {
   "cell_type": "code",
   "execution_count": null,
   "metadata": {
    "colab": {},
    "colab_type": "code",
    "id": "3tzzbnJxlrxg"
   },
   "outputs": [],
   "source": [
    "y = keras.utils.to_categorical(y, num_classes=3)"
   ]
  },
  {
   "cell_type": "markdown",
   "metadata": {
    "colab_type": "text",
    "id": "Geh7w5Ymlrxj"
   },
   "source": [
    "<div style=\"direction:rtl;text-align:right;font-family:Tahoma\">\n",
    "در زیر داده ها  به داده های test و train تقسیم شده است:\n",
    "</div>"
   ]
  },
  {
   "cell_type": "code",
   "execution_count": null,
   "metadata": {
    "colab": {},
    "colab_type": "code",
    "id": "3X7u2v7Klrxj"
   },
   "outputs": [],
   "source": [
    "# Split the data for training and testing\n",
    "train_x, test_x, train_y, test_y = train_test_split(x, y, test_size=0.20)"
   ]
  },
  {
   "cell_type": "markdown",
   "metadata": {
    "colab_type": "text",
    "id": "uLs2zT5Alrxm"
   },
   "source": [
    "# <div style=\"direction:rtl;text-align:right;font-family:B Lotus, B Nazanin, Tahoma\">سوال 2:</div>\n",
    "<div style=\"direction:rtl;text-align:right;font-family:Tahoma\">\n",
    "یک شبکه با دو hidden-layer در هر لایه 10 نوران و تابع فعالیت relu بسازید. یک لایه Dropout با نرخ 0.5 در لایه آخر ماقبل softmax نیز اضافه کنید.\n",
    "</div>"
   ]
  },
  {
   "cell_type": "code",
   "execution_count": null,
   "metadata": {
    "colab": {},
    "colab_type": "code",
    "id": "KVzhYOvAlrxn"
   },
   "outputs": [],
   "source": [
    "# Build the model\n",
    "model = Sequential()\n",
    "model.add(Dense(10, activation='relu', input_dim=4))\n",
    "model.add(Dense(10, activation='relu'))\n",
    "model.add(Dropout(0.5))\n",
    "model.add(Dense(3, activation='softmax'))"
   ]
  },
  {
   "cell_type": "code",
   "execution_count": null,
   "metadata": {
    "colab": {
     "base_uri": "https://localhost:8080/",
     "height": 286
    },
    "colab_type": "code",
    "executionInfo": {
     "elapsed": 1246,
     "status": "ok",
     "timestamp": 1599987964869,
     "user": {
      "displayName": "",
      "photoUrl": "",
      "userId": ""
     },
     "user_tz": -270
    },
    "id": "gVr3FOlPlrxq",
    "outputId": "708b0cff-a958-4076-c9e4-1941c21d2e5a"
   },
   "outputs": [
    {
     "name": "stdout",
     "output_type": "stream",
     "text": [
      "Model: \"sequential\"\n",
      "_________________________________________________________________\n",
      "Layer (type)                 Output Shape              Param #   \n",
      "=================================================================\n",
      "dense (Dense)                (None, 10)                50        \n",
      "_________________________________________________________________\n",
      "dense_1 (Dense)              (None, 10)                110       \n",
      "_________________________________________________________________\n",
      "dropout (Dropout)            (None, 10)                0         \n",
      "_________________________________________________________________\n",
      "dense_2 (Dense)              (None, 3)                 33        \n",
      "=================================================================\n",
      "Total params: 193\n",
      "Trainable params: 193\n",
      "Non-trainable params: 0\n",
      "_________________________________________________________________\n"
     ]
    }
   ],
   "source": [
    "model.summary()"
   ]
  },
  {
   "cell_type": "markdown",
   "metadata": {
    "colab_type": "text",
    "id": "2qbYe4x1lrxt"
   },
   "source": [
    "<div style=\"direction:rtl;text-align:right;font-family:Tahoma\">در زیر مدل کامپایل شده است.</div>"
   ]
  },
  {
   "cell_type": "code",
   "execution_count": null,
   "metadata": {
    "colab": {},
    "colab_type": "code",
    "id": "-kZ0qKSelrxu"
   },
   "outputs": [],
   "source": [
    "# Adam optimizer with learning rate of 0.001\n",
    "optimizer = Adam(lr=0.001)\n",
    "model.compile(optimizer, loss='categorical_crossentropy', metrics=['accuracy'])"
   ]
  },
  {
   "cell_type": "markdown",
   "metadata": {
    "colab_type": "text",
    "id": "wOXBvBzLlrxw"
   },
   "source": [
    "# <div style=\"direction:rtl;text-align:right;font-family:B Lotus, B Nazanin, Tahoma\">سوال 3:</div>\n",
    "<div style=\"direction:rtl;text-align:right;font-family:Tahoma\">\n",
    "مدل را با  batch_size=5 و تعداد 200 ایپاک آموزش دهید.\n",
    "<br>\n",
    "<b>راهنمایی: </b>\n",
    "از تابع model.fit استفاده کنید.\n",
    "</div>"
   ]
  },
  {
   "cell_type": "code",
   "execution_count": null,
   "metadata": {
    "colab": {
     "base_uri": "https://localhost:8080/",
     "height": 1000
    },
    "colab_type": "code",
    "executionInfo": {
     "elapsed": 10313,
     "status": "ok",
     "timestamp": 1599988378208,
     "user": {
      "displayName": "",
      "photoUrl": "",
      "userId": ""
     },
     "user_tz": -270
    },
    "id": "ImabrkfSu3C8",
    "outputId": "b47125d5-105e-41ef-8a2f-471b2fd184f0"
   },
   "outputs": [
    {
     "name": "stdout",
     "output_type": "stream",
     "text": [
      "Epoch 1/200\n",
      "20/20 [==============================] - 0s 4ms/step - loss: 0.3206 - accuracy: 0.8750 - val_loss: 0.1232 - val_accuracy: 0.9167\n",
      "Epoch 2/200\n",
      "20/20 [==============================] - 0s 2ms/step - loss: 0.3021 - accuracy: 0.8750 - val_loss: 0.1276 - val_accuracy: 0.9167\n",
      "Epoch 3/200\n",
      "20/20 [==============================] - 0s 2ms/step - loss: 0.3324 - accuracy: 0.8229 - val_loss: 0.1306 - val_accuracy: 0.9167\n",
      "Epoch 4/200\n",
      "20/20 [==============================] - 0s 2ms/step - loss: 0.3602 - accuracy: 0.8125 - val_loss: 0.1313 - val_accuracy: 0.9167\n",
      "Epoch 5/200\n",
      "20/20 [==============================] - 0s 2ms/step - loss: 0.2348 - accuracy: 0.8750 - val_loss: 0.1191 - val_accuracy: 0.9167\n",
      "Epoch 6/200\n",
      "20/20 [==============================] - 0s 2ms/step - loss: 0.3102 - accuracy: 0.8438 - val_loss: 0.1208 - val_accuracy: 0.9167\n",
      "Epoch 7/200\n",
      "20/20 [==============================] - 0s 2ms/step - loss: 0.3341 - accuracy: 0.8125 - val_loss: 0.1281 - val_accuracy: 0.9167\n",
      "Epoch 8/200\n",
      "20/20 [==============================] - 0s 2ms/step - loss: 0.3207 - accuracy: 0.8333 - val_loss: 0.1342 - val_accuracy: 0.9167\n",
      "Epoch 9/200\n",
      "20/20 [==============================] - 0s 2ms/step - loss: 0.3404 - accuracy: 0.8333 - val_loss: 0.1213 - val_accuracy: 0.9167\n",
      "Epoch 10/200\n",
      "20/20 [==============================] - 0s 2ms/step - loss: 0.3034 - accuracy: 0.8542 - val_loss: 0.1142 - val_accuracy: 0.9167\n",
      "Epoch 11/200\n",
      "20/20 [==============================] - 0s 2ms/step - loss: 0.3214 - accuracy: 0.8438 - val_loss: 0.1540 - val_accuracy: 0.9167\n",
      "Epoch 12/200\n",
      "20/20 [==============================] - 0s 2ms/step - loss: 0.3342 - accuracy: 0.8958 - val_loss: 0.1100 - val_accuracy: 0.9167\n",
      "Epoch 13/200\n",
      "20/20 [==============================] - 0s 2ms/step - loss: 0.2835 - accuracy: 0.8854 - val_loss: 0.1156 - val_accuracy: 0.9167\n",
      "Epoch 14/200\n",
      "20/20 [==============================] - 0s 2ms/step - loss: 0.3159 - accuracy: 0.8542 - val_loss: 0.1242 - val_accuracy: 0.9167\n",
      "Epoch 15/200\n",
      "20/20 [==============================] - 0s 2ms/step - loss: 0.2768 - accuracy: 0.8438 - val_loss: 0.1234 - val_accuracy: 0.9167\n",
      "Epoch 16/200\n",
      "20/20 [==============================] - 0s 2ms/step - loss: 0.3089 - accuracy: 0.8438 - val_loss: 0.1055 - val_accuracy: 0.9167\n",
      "Epoch 17/200\n",
      "20/20 [==============================] - 0s 2ms/step - loss: 0.3162 - accuracy: 0.8229 - val_loss: 0.1310 - val_accuracy: 0.9167\n",
      "Epoch 18/200\n",
      "20/20 [==============================] - 0s 2ms/step - loss: 0.3512 - accuracy: 0.8125 - val_loss: 0.1272 - val_accuracy: 0.9167\n",
      "Epoch 19/200\n",
      "20/20 [==============================] - 0s 2ms/step - loss: 0.2622 - accuracy: 0.8854 - val_loss: 0.1286 - val_accuracy: 0.9167\n",
      "Epoch 20/200\n",
      "20/20 [==============================] - 0s 2ms/step - loss: 0.3255 - accuracy: 0.8125 - val_loss: 0.1235 - val_accuracy: 0.9167\n",
      "Epoch 21/200\n",
      "20/20 [==============================] - 0s 2ms/step - loss: 0.2674 - accuracy: 0.8854 - val_loss: 0.1521 - val_accuracy: 0.9167\n",
      "Epoch 22/200\n",
      "20/20 [==============================] - 0s 3ms/step - loss: 0.2772 - accuracy: 0.8646 - val_loss: 0.1538 - val_accuracy: 0.9167\n",
      "Epoch 23/200\n",
      "20/20 [==============================] - 0s 3ms/step - loss: 0.3248 - accuracy: 0.7812 - val_loss: 0.1192 - val_accuracy: 0.9167\n",
      "Epoch 24/200\n",
      "20/20 [==============================] - 0s 2ms/step - loss: 0.3136 - accuracy: 0.8438 - val_loss: 0.1135 - val_accuracy: 0.9167\n",
      "Epoch 25/200\n",
      "20/20 [==============================] - 0s 2ms/step - loss: 0.2745 - accuracy: 0.8333 - val_loss: 0.1357 - val_accuracy: 0.9167\n",
      "Epoch 26/200\n",
      "20/20 [==============================] - 0s 2ms/step - loss: 0.3052 - accuracy: 0.8438 - val_loss: 0.1252 - val_accuracy: 0.9167\n",
      "Epoch 27/200\n",
      "20/20 [==============================] - 0s 2ms/step - loss: 0.3294 - accuracy: 0.8438 - val_loss: 0.1105 - val_accuracy: 0.9167\n",
      "Epoch 28/200\n",
      "20/20 [==============================] - 0s 2ms/step - loss: 0.3897 - accuracy: 0.8021 - val_loss: 0.1194 - val_accuracy: 0.9167\n",
      "Epoch 29/200\n",
      "20/20 [==============================] - 0s 2ms/step - loss: 0.3422 - accuracy: 0.8229 - val_loss: 0.1211 - val_accuracy: 0.9167\n",
      "Epoch 30/200\n",
      "20/20 [==============================] - 0s 2ms/step - loss: 0.4382 - accuracy: 0.7812 - val_loss: 0.1074 - val_accuracy: 0.9167\n",
      "Epoch 31/200\n",
      "20/20 [==============================] - 0s 3ms/step - loss: 0.3190 - accuracy: 0.8646 - val_loss: 0.1207 - val_accuracy: 0.9167\n",
      "Epoch 32/200\n",
      "20/20 [==============================] - 0s 2ms/step - loss: 0.3072 - accuracy: 0.8125 - val_loss: 0.1201 - val_accuracy: 0.9167\n",
      "Epoch 33/200\n",
      "20/20 [==============================] - 0s 3ms/step - loss: 0.2900 - accuracy: 0.8750 - val_loss: 0.1121 - val_accuracy: 0.9167\n",
      "Epoch 34/200\n",
      "20/20 [==============================] - 0s 2ms/step - loss: 0.2462 - accuracy: 0.8750 - val_loss: 0.1309 - val_accuracy: 0.9167\n",
      "Epoch 35/200\n",
      "20/20 [==============================] - 0s 2ms/step - loss: 0.3442 - accuracy: 0.8333 - val_loss: 0.1311 - val_accuracy: 0.9167\n",
      "Epoch 36/200\n",
      "20/20 [==============================] - 0s 2ms/step - loss: 0.2688 - accuracy: 0.8646 - val_loss: 0.1155 - val_accuracy: 0.9167\n",
      "Epoch 37/200\n",
      "20/20 [==============================] - 0s 2ms/step - loss: 0.3553 - accuracy: 0.8229 - val_loss: 0.1270 - val_accuracy: 0.9167\n",
      "Epoch 38/200\n",
      "20/20 [==============================] - 0s 2ms/step - loss: 0.2702 - accuracy: 0.8750 - val_loss: 0.1173 - val_accuracy: 0.9167\n",
      "Epoch 39/200\n",
      "20/20 [==============================] - 0s 2ms/step - loss: 0.2614 - accuracy: 0.8854 - val_loss: 0.1241 - val_accuracy: 0.9167\n",
      "Epoch 40/200\n",
      "20/20 [==============================] - 0s 2ms/step - loss: 0.2989 - accuracy: 0.8646 - val_loss: 0.1182 - val_accuracy: 0.9167\n",
      "Epoch 41/200\n",
      "20/20 [==============================] - 0s 2ms/step - loss: 0.3063 - accuracy: 0.8646 - val_loss: 0.1138 - val_accuracy: 0.9167\n",
      "Epoch 42/200\n",
      "20/20 [==============================] - 0s 2ms/step - loss: 0.2712 - accuracy: 0.8542 - val_loss: 0.1314 - val_accuracy: 0.9167\n",
      "Epoch 43/200\n",
      "20/20 [==============================] - 0s 2ms/step - loss: 0.2946 - accuracy: 0.8646 - val_loss: 0.1254 - val_accuracy: 0.9167\n",
      "Epoch 44/200\n",
      "20/20 [==============================] - 0s 2ms/step - loss: 0.2466 - accuracy: 0.9062 - val_loss: 0.1166 - val_accuracy: 0.9167\n",
      "Epoch 45/200\n",
      "20/20 [==============================] - 0s 2ms/step - loss: 0.3450 - accuracy: 0.8021 - val_loss: 0.1273 - val_accuracy: 0.9167\n",
      "Epoch 46/200\n",
      "20/20 [==============================] - 0s 2ms/step - loss: 0.2816 - accuracy: 0.8854 - val_loss: 0.1172 - val_accuracy: 0.9167\n",
      "Epoch 47/200\n",
      "20/20 [==============================] - 0s 2ms/step - loss: 0.3207 - accuracy: 0.8229 - val_loss: 0.1241 - val_accuracy: 0.9167\n",
      "Epoch 48/200\n",
      "20/20 [==============================] - 0s 2ms/step - loss: 0.3484 - accuracy: 0.8542 - val_loss: 0.1101 - val_accuracy: 0.8750\n",
      "Epoch 49/200\n",
      "20/20 [==============================] - 0s 2ms/step - loss: 0.2487 - accuracy: 0.8958 - val_loss: 0.1199 - val_accuracy: 0.9583\n",
      "Epoch 50/200\n",
      "20/20 [==============================] - 0s 2ms/step - loss: 0.3186 - accuracy: 0.8333 - val_loss: 0.1262 - val_accuracy: 0.9167\n",
      "Epoch 51/200\n",
      "20/20 [==============================] - 0s 2ms/step - loss: 0.3562 - accuracy: 0.8021 - val_loss: 0.1332 - val_accuracy: 0.9167\n",
      "Epoch 52/200\n",
      "20/20 [==============================] - 0s 2ms/step - loss: 0.2470 - accuracy: 0.8750 - val_loss: 0.1362 - val_accuracy: 0.9167\n",
      "Epoch 53/200\n",
      "20/20 [==============================] - 0s 2ms/step - loss: 0.2878 - accuracy: 0.8958 - val_loss: 0.1227 - val_accuracy: 0.9167\n",
      "Epoch 54/200\n",
      "20/20 [==============================] - 0s 2ms/step - loss: 0.2704 - accuracy: 0.8750 - val_loss: 0.1257 - val_accuracy: 0.9167\n",
      "Epoch 55/200\n",
      "20/20 [==============================] - 0s 2ms/step - loss: 0.3287 - accuracy: 0.7917 - val_loss: 0.1390 - val_accuracy: 0.9167\n",
      "Epoch 56/200\n",
      "20/20 [==============================] - 0s 2ms/step - loss: 0.2338 - accuracy: 0.8750 - val_loss: 0.1320 - val_accuracy: 0.9167\n",
      "Epoch 57/200\n",
      "20/20 [==============================] - 0s 2ms/step - loss: 0.3074 - accuracy: 0.8229 - val_loss: 0.1208 - val_accuracy: 0.9167\n",
      "Epoch 58/200\n",
      "20/20 [==============================] - 0s 2ms/step - loss: 0.2784 - accuracy: 0.8646 - val_loss: 0.1414 - val_accuracy: 0.9167\n",
      "Epoch 59/200\n",
      "20/20 [==============================] - 0s 2ms/step - loss: 0.3484 - accuracy: 0.7917 - val_loss: 0.1490 - val_accuracy: 0.9167\n",
      "Epoch 60/200\n",
      "20/20 [==============================] - 0s 2ms/step - loss: 0.2875 - accuracy: 0.8542 - val_loss: 0.1378 - val_accuracy: 0.9167\n",
      "Epoch 61/200\n",
      "20/20 [==============================] - 0s 2ms/step - loss: 0.3155 - accuracy: 0.8229 - val_loss: 0.1411 - val_accuracy: 0.9167\n",
      "Epoch 62/200\n",
      "20/20 [==============================] - 0s 2ms/step - loss: 0.2320 - accuracy: 0.8958 - val_loss: 0.1388 - val_accuracy: 0.9167\n",
      "Epoch 63/200\n",
      "20/20 [==============================] - 0s 2ms/step - loss: 0.4009 - accuracy: 0.7917 - val_loss: 0.1256 - val_accuracy: 0.9167\n",
      "Epoch 64/200\n",
      "20/20 [==============================] - 0s 2ms/step - loss: 0.3241 - accuracy: 0.8438 - val_loss: 0.1508 - val_accuracy: 0.9167\n",
      "Epoch 65/200\n",
      "20/20 [==============================] - 0s 2ms/step - loss: 0.2765 - accuracy: 0.8854 - val_loss: 0.1503 - val_accuracy: 0.9167\n",
      "Epoch 66/200\n",
      "20/20 [==============================] - 0s 2ms/step - loss: 0.4024 - accuracy: 0.8125 - val_loss: 0.1178 - val_accuracy: 0.9167\n",
      "Epoch 67/200\n",
      "20/20 [==============================] - 0s 2ms/step - loss: 0.3622 - accuracy: 0.8125 - val_loss: 0.1091 - val_accuracy: 0.9167\n",
      "Epoch 68/200\n",
      "20/20 [==============================] - 0s 2ms/step - loss: 0.3791 - accuracy: 0.7917 - val_loss: 0.1299 - val_accuracy: 0.9167\n",
      "Epoch 69/200\n",
      "20/20 [==============================] - 0s 2ms/step - loss: 0.3367 - accuracy: 0.8125 - val_loss: 0.1412 - val_accuracy: 0.9167\n",
      "Epoch 70/200\n",
      "20/20 [==============================] - 0s 2ms/step - loss: 0.2836 - accuracy: 0.8438 - val_loss: 0.1169 - val_accuracy: 0.9167\n",
      "Epoch 71/200\n",
      "20/20 [==============================] - 0s 2ms/step - loss: 0.2753 - accuracy: 0.8646 - val_loss: 0.1290 - val_accuracy: 0.9167\n",
      "Epoch 72/200\n",
      "20/20 [==============================] - 0s 2ms/step - loss: 0.3413 - accuracy: 0.8229 - val_loss: 0.1053 - val_accuracy: 0.9167\n",
      "Epoch 73/200\n",
      "20/20 [==============================] - 0s 2ms/step - loss: 0.3603 - accuracy: 0.7917 - val_loss: 0.1124 - val_accuracy: 0.9167\n",
      "Epoch 74/200\n",
      "20/20 [==============================] - 0s 2ms/step - loss: 0.3605 - accuracy: 0.7708 - val_loss: 0.1233 - val_accuracy: 0.9167\n",
      "Epoch 75/200\n",
      "20/20 [==============================] - 0s 2ms/step - loss: 0.2697 - accuracy: 0.8854 - val_loss: 0.1166 - val_accuracy: 0.9167\n",
      "Epoch 76/200\n",
      "20/20 [==============================] - 0s 2ms/step - loss: 0.2409 - accuracy: 0.8646 - val_loss: 0.1078 - val_accuracy: 0.8750\n",
      "Epoch 77/200\n",
      "20/20 [==============================] - 0s 2ms/step - loss: 0.2955 - accuracy: 0.8646 - val_loss: 0.1210 - val_accuracy: 0.9167\n",
      "Epoch 78/200\n",
      "20/20 [==============================] - 0s 2ms/step - loss: 0.4161 - accuracy: 0.7812 - val_loss: 0.1401 - val_accuracy: 0.9167\n",
      "Epoch 79/200\n",
      "20/20 [==============================] - 0s 2ms/step - loss: 0.2915 - accuracy: 0.8333 - val_loss: 0.1290 - val_accuracy: 0.9167\n",
      "Epoch 80/200\n",
      "20/20 [==============================] - 0s 2ms/step - loss: 0.2843 - accuracy: 0.8854 - val_loss: 0.1265 - val_accuracy: 0.9167\n",
      "Epoch 81/200\n",
      "20/20 [==============================] - 0s 2ms/step - loss: 0.2552 - accuracy: 0.8854 - val_loss: 0.1145 - val_accuracy: 0.9167\n",
      "Epoch 82/200\n",
      "20/20 [==============================] - 0s 2ms/step - loss: 0.3000 - accuracy: 0.8333 - val_loss: 0.1059 - val_accuracy: 0.9167\n",
      "Epoch 83/200\n",
      "20/20 [==============================] - 0s 2ms/step - loss: 0.2107 - accuracy: 0.9271 - val_loss: 0.1392 - val_accuracy: 0.9167\n",
      "Epoch 84/200\n",
      "20/20 [==============================] - 0s 2ms/step - loss: 0.3571 - accuracy: 0.7812 - val_loss: 0.1150 - val_accuracy: 0.9167\n",
      "Epoch 85/200\n",
      "20/20 [==============================] - 0s 2ms/step - loss: 0.3211 - accuracy: 0.8229 - val_loss: 0.1055 - val_accuracy: 0.9167\n",
      "Epoch 86/200\n",
      "20/20 [==============================] - 0s 2ms/step - loss: 0.3730 - accuracy: 0.8125 - val_loss: 0.1358 - val_accuracy: 0.9167\n",
      "Epoch 87/200\n",
      "20/20 [==============================] - 0s 3ms/step - loss: 0.2998 - accuracy: 0.8229 - val_loss: 0.1455 - val_accuracy: 0.9167\n",
      "Epoch 88/200\n",
      "20/20 [==============================] - 0s 2ms/step - loss: 0.2361 - accuracy: 0.8542 - val_loss: 0.1183 - val_accuracy: 0.9167\n",
      "Epoch 89/200\n",
      "20/20 [==============================] - 0s 2ms/step - loss: 0.2978 - accuracy: 0.8229 - val_loss: 0.1281 - val_accuracy: 0.9167\n",
      "Epoch 90/200\n",
      "20/20 [==============================] - 0s 2ms/step - loss: 0.3870 - accuracy: 0.8125 - val_loss: 0.1008 - val_accuracy: 0.9583\n",
      "Epoch 91/200\n",
      "20/20 [==============================] - 0s 2ms/step - loss: 0.2764 - accuracy: 0.8750 - val_loss: 0.1304 - val_accuracy: 0.9167\n",
      "Epoch 92/200\n",
      "20/20 [==============================] - 0s 2ms/step - loss: 0.2697 - accuracy: 0.8438 - val_loss: 0.1452 - val_accuracy: 0.9167\n",
      "Epoch 93/200\n",
      "20/20 [==============================] - 0s 2ms/step - loss: 0.3782 - accuracy: 0.7812 - val_loss: 0.1256 - val_accuracy: 0.9167\n",
      "Epoch 94/200\n",
      "20/20 [==============================] - 0s 2ms/step - loss: 0.3090 - accuracy: 0.8333 - val_loss: 0.1198 - val_accuracy: 0.9167\n",
      "Epoch 95/200\n",
      "20/20 [==============================] - 0s 2ms/step - loss: 0.2693 - accuracy: 0.9062 - val_loss: 0.1418 - val_accuracy: 0.9167\n",
      "Epoch 96/200\n",
      "20/20 [==============================] - 0s 2ms/step - loss: 0.2514 - accuracy: 0.8958 - val_loss: 0.1380 - val_accuracy: 0.9167\n",
      "Epoch 97/200\n",
      "20/20 [==============================] - 0s 2ms/step - loss: 0.3064 - accuracy: 0.8438 - val_loss: 0.1387 - val_accuracy: 0.9167\n",
      "Epoch 98/200\n",
      "20/20 [==============================] - 0s 2ms/step - loss: 0.3404 - accuracy: 0.8021 - val_loss: 0.1198 - val_accuracy: 0.9167\n",
      "Epoch 99/200\n",
      "20/20 [==============================] - 0s 2ms/step - loss: 0.3059 - accuracy: 0.8333 - val_loss: 0.1851 - val_accuracy: 0.9167\n",
      "Epoch 100/200\n",
      "20/20 [==============================] - 0s 2ms/step - loss: 0.2541 - accuracy: 0.8854 - val_loss: 0.1545 - val_accuracy: 0.9167\n",
      "Epoch 101/200\n",
      "20/20 [==============================] - 0s 2ms/step - loss: 0.2650 - accuracy: 0.8646 - val_loss: 0.1283 - val_accuracy: 0.9167\n",
      "Epoch 102/200\n",
      "20/20 [==============================] - 0s 2ms/step - loss: 0.3584 - accuracy: 0.7917 - val_loss: 0.1318 - val_accuracy: 0.9167\n",
      "Epoch 103/200\n",
      "20/20 [==============================] - 0s 2ms/step - loss: 0.3380 - accuracy: 0.8646 - val_loss: 0.1227 - val_accuracy: 0.9167\n",
      "Epoch 104/200\n",
      "20/20 [==============================] - 0s 2ms/step - loss: 0.3642 - accuracy: 0.7708 - val_loss: 0.1304 - val_accuracy: 0.9167\n",
      "Epoch 105/200\n",
      "20/20 [==============================] - 0s 2ms/step - loss: 0.3240 - accuracy: 0.7812 - val_loss: 0.1093 - val_accuracy: 0.9167\n",
      "Epoch 106/200\n",
      "20/20 [==============================] - 0s 2ms/step - loss: 0.2946 - accuracy: 0.8542 - val_loss: 0.1048 - val_accuracy: 0.9167\n",
      "Epoch 107/200\n",
      "20/20 [==============================] - 0s 2ms/step - loss: 0.3594 - accuracy: 0.8125 - val_loss: 0.1178 - val_accuracy: 0.9167\n",
      "Epoch 108/200\n",
      "20/20 [==============================] - 0s 2ms/step - loss: 0.3567 - accuracy: 0.8125 - val_loss: 0.1274 - val_accuracy: 0.9167\n",
      "Epoch 109/200\n",
      "20/20 [==============================] - 0s 3ms/step - loss: 0.3034 - accuracy: 0.8542 - val_loss: 0.1255 - val_accuracy: 0.9167\n",
      "Epoch 110/200\n",
      "20/20 [==============================] - 0s 2ms/step - loss: 0.2913 - accuracy: 0.8438 - val_loss: 0.1214 - val_accuracy: 0.9167\n",
      "Epoch 111/200\n",
      "20/20 [==============================] - 0s 2ms/step - loss: 0.3835 - accuracy: 0.8333 - val_loss: 0.1229 - val_accuracy: 0.9167\n",
      "Epoch 112/200\n",
      "20/20 [==============================] - 0s 2ms/step - loss: 0.2991 - accuracy: 0.8125 - val_loss: 0.1259 - val_accuracy: 0.9167\n",
      "Epoch 113/200\n",
      "20/20 [==============================] - 0s 2ms/step - loss: 0.2847 - accuracy: 0.8542 - val_loss: 0.1147 - val_accuracy: 0.9167\n",
      "Epoch 114/200\n",
      "20/20 [==============================] - 0s 2ms/step - loss: 0.2677 - accuracy: 0.8542 - val_loss: 0.1105 - val_accuracy: 0.9167\n",
      "Epoch 115/200\n",
      "20/20 [==============================] - 0s 2ms/step - loss: 0.2912 - accuracy: 0.8854 - val_loss: 0.1112 - val_accuracy: 0.9167\n",
      "Epoch 116/200\n",
      "20/20 [==============================] - 0s 2ms/step - loss: 0.2866 - accuracy: 0.8646 - val_loss: 0.1173 - val_accuracy: 0.9167\n",
      "Epoch 117/200\n",
      "20/20 [==============================] - 0s 2ms/step - loss: 0.4215 - accuracy: 0.8021 - val_loss: 0.1213 - val_accuracy: 0.9167\n",
      "Epoch 118/200\n",
      "20/20 [==============================] - 0s 2ms/step - loss: 0.3396 - accuracy: 0.8021 - val_loss: 0.1261 - val_accuracy: 0.9167\n",
      "Epoch 119/200\n",
      "20/20 [==============================] - 0s 2ms/step - loss: 0.2864 - accuracy: 0.8750 - val_loss: 0.1343 - val_accuracy: 0.9167\n",
      "Epoch 120/200\n",
      "20/20 [==============================] - 0s 2ms/step - loss: 0.2848 - accuracy: 0.8542 - val_loss: 0.1186 - val_accuracy: 0.9167\n",
      "Epoch 121/200\n",
      "20/20 [==============================] - 0s 2ms/step - loss: 0.3481 - accuracy: 0.7917 - val_loss: 0.1386 - val_accuracy: 0.9167\n",
      "Epoch 122/200\n",
      "20/20 [==============================] - 0s 2ms/step - loss: 0.3148 - accuracy: 0.8229 - val_loss: 0.1370 - val_accuracy: 0.9167\n",
      "Epoch 123/200\n",
      "20/20 [==============================] - 0s 2ms/step - loss: 0.3081 - accuracy: 0.8750 - val_loss: 0.1420 - val_accuracy: 0.9167\n",
      "Epoch 124/200\n",
      "20/20 [==============================] - 0s 2ms/step - loss: 0.4210 - accuracy: 0.7188 - val_loss: 0.1301 - val_accuracy: 0.9167\n",
      "Epoch 125/200\n",
      "20/20 [==============================] - 0s 2ms/step - loss: 0.2477 - accuracy: 0.8854 - val_loss: 0.1130 - val_accuracy: 0.9167\n",
      "Epoch 126/200\n",
      "20/20 [==============================] - 0s 2ms/step - loss: 0.2985 - accuracy: 0.8646 - val_loss: 0.1214 - val_accuracy: 0.9167\n",
      "Epoch 127/200\n",
      "20/20 [==============================] - 0s 2ms/step - loss: 0.3898 - accuracy: 0.7917 - val_loss: 0.1404 - val_accuracy: 0.9167\n",
      "Epoch 128/200\n",
      "20/20 [==============================] - 0s 2ms/step - loss: 0.2216 - accuracy: 0.8854 - val_loss: 0.1362 - val_accuracy: 0.9167\n",
      "Epoch 129/200\n",
      "20/20 [==============================] - 0s 2ms/step - loss: 0.2904 - accuracy: 0.8646 - val_loss: 0.1063 - val_accuracy: 0.9167\n",
      "Epoch 130/200\n",
      "20/20 [==============================] - 0s 2ms/step - loss: 0.3235 - accuracy: 0.8229 - val_loss: 0.1968 - val_accuracy: 0.9167\n",
      "Epoch 131/200\n",
      "20/20 [==============================] - 0s 2ms/step - loss: 0.2767 - accuracy: 0.8854 - val_loss: 0.1601 - val_accuracy: 0.9167\n",
      "Epoch 132/200\n",
      "20/20 [==============================] - 0s 2ms/step - loss: 0.3500 - accuracy: 0.8021 - val_loss: 0.1388 - val_accuracy: 0.9167\n",
      "Epoch 133/200\n",
      "20/20 [==============================] - 0s 2ms/step - loss: 0.3494 - accuracy: 0.8438 - val_loss: 0.1274 - val_accuracy: 0.9167\n",
      "Epoch 134/200\n",
      "20/20 [==============================] - 0s 2ms/step - loss: 0.3647 - accuracy: 0.8229 - val_loss: 0.1338 - val_accuracy: 0.9167\n",
      "Epoch 135/200\n",
      "20/20 [==============================] - 0s 2ms/step - loss: 0.1926 - accuracy: 0.8958 - val_loss: 0.1277 - val_accuracy: 0.9167\n",
      "Epoch 136/200\n",
      "20/20 [==============================] - 0s 2ms/step - loss: 0.3469 - accuracy: 0.8229 - val_loss: 0.1332 - val_accuracy: 0.9167\n",
      "Epoch 137/200\n",
      "20/20 [==============================] - 0s 2ms/step - loss: 0.3559 - accuracy: 0.8021 - val_loss: 0.1364 - val_accuracy: 0.9167\n",
      "Epoch 138/200\n",
      "20/20 [==============================] - 0s 2ms/step - loss: 0.3007 - accuracy: 0.8854 - val_loss: 0.1291 - val_accuracy: 0.9167\n",
      "Epoch 139/200\n",
      "20/20 [==============================] - 0s 2ms/step - loss: 0.2391 - accuracy: 0.8854 - val_loss: 0.1227 - val_accuracy: 0.9167\n",
      "Epoch 140/200\n",
      "20/20 [==============================] - 0s 2ms/step - loss: 0.3073 - accuracy: 0.8229 - val_loss: 0.1311 - val_accuracy: 0.9167\n",
      "Epoch 141/200\n",
      "20/20 [==============================] - 0s 2ms/step - loss: 0.3029 - accuracy: 0.8125 - val_loss: 0.1341 - val_accuracy: 0.9167\n",
      "Epoch 142/200\n",
      "20/20 [==============================] - 0s 2ms/step - loss: 0.3209 - accuracy: 0.8438 - val_loss: 0.1199 - val_accuracy: 0.9167\n",
      "Epoch 143/200\n",
      "20/20 [==============================] - 0s 2ms/step - loss: 0.3072 - accuracy: 0.8750 - val_loss: 0.1439 - val_accuracy: 0.9167\n",
      "Epoch 144/200\n",
      "20/20 [==============================] - 0s 2ms/step - loss: 0.3693 - accuracy: 0.7708 - val_loss: 0.1184 - val_accuracy: 0.9167\n",
      "Epoch 145/200\n",
      "20/20 [==============================] - 0s 2ms/step - loss: 0.2815 - accuracy: 0.8438 - val_loss: 0.1032 - val_accuracy: 0.9167\n",
      "Epoch 146/200\n",
      "20/20 [==============================] - 0s 2ms/step - loss: 0.2973 - accuracy: 0.8438 - val_loss: 0.1244 - val_accuracy: 0.9167\n",
      "Epoch 147/200\n",
      "20/20 [==============================] - 0s 2ms/step - loss: 0.2324 - accuracy: 0.9062 - val_loss: 0.1024 - val_accuracy: 0.9583\n",
      "Epoch 148/200\n",
      "20/20 [==============================] - 0s 2ms/step - loss: 0.2922 - accuracy: 0.8542 - val_loss: 0.1365 - val_accuracy: 0.9167\n",
      "Epoch 149/200\n",
      "20/20 [==============================] - 0s 2ms/step - loss: 0.2811 - accuracy: 0.8750 - val_loss: 0.1355 - val_accuracy: 0.9167\n",
      "Epoch 150/200\n",
      "20/20 [==============================] - 0s 2ms/step - loss: 0.3107 - accuracy: 0.8438 - val_loss: 0.1164 - val_accuracy: 0.9167\n",
      "Epoch 151/200\n",
      "20/20 [==============================] - 0s 2ms/step - loss: 0.3029 - accuracy: 0.8542 - val_loss: 0.1208 - val_accuracy: 0.9167\n",
      "Epoch 152/200\n",
      "20/20 [==============================] - 0s 2ms/step - loss: 0.2665 - accuracy: 0.8542 - val_loss: 0.1299 - val_accuracy: 0.9167\n",
      "Epoch 153/200\n",
      "20/20 [==============================] - 0s 2ms/step - loss: 0.4081 - accuracy: 0.7708 - val_loss: 0.1254 - val_accuracy: 0.9167\n",
      "Epoch 154/200\n",
      "20/20 [==============================] - 0s 2ms/step - loss: 0.2406 - accuracy: 0.8438 - val_loss: 0.1148 - val_accuracy: 0.9167\n",
      "Epoch 155/200\n",
      "20/20 [==============================] - 0s 2ms/step - loss: 0.3701 - accuracy: 0.8125 - val_loss: 0.1120 - val_accuracy: 0.9167\n",
      "Epoch 156/200\n",
      "20/20 [==============================] - 0s 2ms/step - loss: 0.3215 - accuracy: 0.8542 - val_loss: 0.1165 - val_accuracy: 0.9167\n",
      "Epoch 157/200\n",
      "20/20 [==============================] - 0s 2ms/step - loss: 0.3659 - accuracy: 0.8021 - val_loss: 0.1065 - val_accuracy: 0.9167\n",
      "Epoch 158/200\n",
      "20/20 [==============================] - 0s 2ms/step - loss: 0.2527 - accuracy: 0.8958 - val_loss: 0.1448 - val_accuracy: 0.9167\n",
      "Epoch 159/200\n",
      "20/20 [==============================] - 0s 2ms/step - loss: 0.2966 - accuracy: 0.8646 - val_loss: 0.1340 - val_accuracy: 0.9167\n",
      "Epoch 160/200\n",
      "20/20 [==============================] - 0s 2ms/step - loss: 0.3060 - accuracy: 0.8646 - val_loss: 0.1315 - val_accuracy: 0.9167\n",
      "Epoch 161/200\n",
      "20/20 [==============================] - 0s 2ms/step - loss: 0.3540 - accuracy: 0.8438 - val_loss: 0.1230 - val_accuracy: 0.9167\n",
      "Epoch 162/200\n",
      "20/20 [==============================] - 0s 2ms/step - loss: 0.3427 - accuracy: 0.8021 - val_loss: 0.1189 - val_accuracy: 0.9167\n",
      "Epoch 163/200\n",
      "20/20 [==============================] - 0s 2ms/step - loss: 0.3271 - accuracy: 0.8542 - val_loss: 0.1099 - val_accuracy: 0.8750\n",
      "Epoch 164/200\n",
      "20/20 [==============================] - 0s 2ms/step - loss: 0.4419 - accuracy: 0.7708 - val_loss: 0.1276 - val_accuracy: 0.9167\n",
      "Epoch 165/200\n",
      "20/20 [==============================] - 0s 2ms/step - loss: 0.2416 - accuracy: 0.8646 - val_loss: 0.1270 - val_accuracy: 0.9167\n",
      "Epoch 166/200\n",
      "20/20 [==============================] - 0s 2ms/step - loss: 0.3356 - accuracy: 0.8333 - val_loss: 0.1123 - val_accuracy: 0.9167\n",
      "Epoch 167/200\n",
      "20/20 [==============================] - 0s 2ms/step - loss: 0.3335 - accuracy: 0.8125 - val_loss: 0.1154 - val_accuracy: 0.9167\n",
      "Epoch 168/200\n",
      "20/20 [==============================] - 0s 2ms/step - loss: 0.2971 - accuracy: 0.8229 - val_loss: 0.1112 - val_accuracy: 0.9167\n",
      "Epoch 169/200\n",
      "20/20 [==============================] - 0s 2ms/step - loss: 0.2669 - accuracy: 0.8854 - val_loss: 0.1141 - val_accuracy: 0.9167\n",
      "Epoch 170/200\n",
      "20/20 [==============================] - 0s 2ms/step - loss: 0.3174 - accuracy: 0.8333 - val_loss: 0.1005 - val_accuracy: 0.9583\n",
      "Epoch 171/200\n",
      "20/20 [==============================] - 0s 2ms/step - loss: 0.3120 - accuracy: 0.8333 - val_loss: 0.1406 - val_accuracy: 0.9167\n",
      "Epoch 172/200\n",
      "20/20 [==============================] - 0s 2ms/step - loss: 0.2481 - accuracy: 0.8750 - val_loss: 0.1081 - val_accuracy: 0.9167\n",
      "Epoch 173/200\n",
      "20/20 [==============================] - 0s 2ms/step - loss: 0.3106 - accuracy: 0.8333 - val_loss: 0.1325 - val_accuracy: 0.9167\n",
      "Epoch 174/200\n",
      "20/20 [==============================] - 0s 2ms/step - loss: 0.3005 - accuracy: 0.8438 - val_loss: 0.1335 - val_accuracy: 0.9167\n",
      "Epoch 175/200\n",
      "20/20 [==============================] - 0s 2ms/step - loss: 0.3626 - accuracy: 0.7812 - val_loss: 0.1219 - val_accuracy: 0.9167\n",
      "Epoch 176/200\n",
      "20/20 [==============================] - 0s 2ms/step - loss: 0.2577 - accuracy: 0.8750 - val_loss: 0.1209 - val_accuracy: 0.9167\n",
      "Epoch 177/200\n",
      "20/20 [==============================] - 0s 2ms/step - loss: 0.2890 - accuracy: 0.8646 - val_loss: 0.1143 - val_accuracy: 0.9167\n",
      "Epoch 178/200\n",
      "20/20 [==============================] - 0s 2ms/step - loss: 0.2944 - accuracy: 0.8542 - val_loss: 0.1136 - val_accuracy: 0.9167\n",
      "Epoch 179/200\n",
      "20/20 [==============================] - 0s 2ms/step - loss: 0.3300 - accuracy: 0.8333 - val_loss: 0.1375 - val_accuracy: 0.9167\n",
      "Epoch 180/200\n",
      "20/20 [==============================] - 0s 2ms/step - loss: 0.2931 - accuracy: 0.8646 - val_loss: 0.1479 - val_accuracy: 0.9167\n",
      "Epoch 181/200\n",
      "20/20 [==============================] - 0s 2ms/step - loss: 0.2687 - accuracy: 0.8333 - val_loss: 0.1439 - val_accuracy: 0.9167\n",
      "Epoch 182/200\n",
      "20/20 [==============================] - 0s 2ms/step - loss: 0.3131 - accuracy: 0.8438 - val_loss: 0.1195 - val_accuracy: 0.9167\n",
      "Epoch 183/200\n",
      "20/20 [==============================] - 0s 2ms/step - loss: 0.3337 - accuracy: 0.8125 - val_loss: 0.1109 - val_accuracy: 0.9167\n",
      "Epoch 184/200\n",
      "20/20 [==============================] - 0s 2ms/step - loss: 0.2687 - accuracy: 0.8958 - val_loss: 0.1207 - val_accuracy: 0.9167\n",
      "Epoch 185/200\n",
      "20/20 [==============================] - 0s 2ms/step - loss: 0.3650 - accuracy: 0.8229 - val_loss: 0.1203 - val_accuracy: 0.9167\n",
      "Epoch 186/200\n",
      "20/20 [==============================] - 0s 2ms/step - loss: 0.3322 - accuracy: 0.8125 - val_loss: 0.1185 - val_accuracy: 0.9167\n",
      "Epoch 187/200\n",
      "20/20 [==============================] - 0s 2ms/step - loss: 0.3117 - accuracy: 0.8229 - val_loss: 0.1138 - val_accuracy: 0.9167\n",
      "Epoch 188/200\n",
      "20/20 [==============================] - 0s 2ms/step - loss: 0.2211 - accuracy: 0.9062 - val_loss: 0.1177 - val_accuracy: 0.9167\n",
      "Epoch 189/200\n",
      "20/20 [==============================] - 0s 2ms/step - loss: 0.2917 - accuracy: 0.8646 - val_loss: 0.1083 - val_accuracy: 0.9167\n",
      "Epoch 190/200\n",
      "20/20 [==============================] - 0s 2ms/step - loss: 0.2584 - accuracy: 0.9062 - val_loss: 0.1269 - val_accuracy: 0.9167\n",
      "Epoch 191/200\n",
      "20/20 [==============================] - 0s 2ms/step - loss: 0.3437 - accuracy: 0.8333 - val_loss: 0.1091 - val_accuracy: 0.9167\n",
      "Epoch 192/200\n",
      "20/20 [==============================] - 0s 2ms/step - loss: 0.3114 - accuracy: 0.8125 - val_loss: 0.1062 - val_accuracy: 0.9167\n",
      "Epoch 193/200\n",
      "20/20 [==============================] - 0s 2ms/step - loss: 0.3300 - accuracy: 0.8333 - val_loss: 0.1270 - val_accuracy: 0.9167\n",
      "Epoch 194/200\n",
      "20/20 [==============================] - 0s 2ms/step - loss: 0.2656 - accuracy: 0.8646 - val_loss: 0.1128 - val_accuracy: 0.8750\n",
      "Epoch 195/200\n",
      "20/20 [==============================] - 0s 2ms/step - loss: 0.3671 - accuracy: 0.8229 - val_loss: 0.1183 - val_accuracy: 0.9167\n",
      "Epoch 196/200\n",
      "20/20 [==============================] - 0s 2ms/step - loss: 0.2360 - accuracy: 0.8750 - val_loss: 0.1347 - val_accuracy: 0.9167\n",
      "Epoch 197/200\n",
      "20/20 [==============================] - 0s 2ms/step - loss: 0.3081 - accuracy: 0.8333 - val_loss: 0.1302 - val_accuracy: 0.9167\n",
      "Epoch 198/200\n",
      "20/20 [==============================] - 0s 2ms/step - loss: 0.3536 - accuracy: 0.8438 - val_loss: 0.1096 - val_accuracy: 0.9167\n",
      "Epoch 199/200\n",
      "20/20 [==============================] - 0s 2ms/step - loss: 0.2153 - accuracy: 0.9271 - val_loss: 0.1225 - val_accuracy: 0.9167\n",
      "Epoch 200/200\n",
      "20/20 [==============================] - 0s 2ms/step - loss: 0.2721 - accuracy: 0.8646 - val_loss: 0.1141 - val_accuracy: 0.9167\n"
     ]
    },
    {
     "data": {
      "text/plain": [
       "<tensorflow.python.keras.callbacks.History at 0x7f6464ed26d8>"
      ]
     },
     "execution_count": 14,
     "metadata": {
      "tags": []
     },
     "output_type": "execute_result"
    }
   ],
   "source": [
    "# Train the model\n",
    "model.fit(train_x, train_y,\n",
    "          epochs=200,\n",
    "          batch_size=5, validation_split=0.2)"
   ]
  },
  {
   "cell_type": "markdown",
   "metadata": {
    "colab_type": "text",
    "id": "cHyYyE3Tlrxz"
   },
   "source": [
    "# <div style=\"direction:rtl;text-align:right;font-family:B Lotus, B Nazanin, Tahoma\">سوال 4:</div>\n",
    "<div style=\"direction:rtl;text-align:right;font-family:Tahoma\">\n",
    "مدل را روی داده های test ارزیابی کنید.\n",
    "<br>\n",
    "<b>راهنمایی: </b>\n",
    "از تابع model.evaluate استفاده کنید.\n",
    "</div>"
   ]
  },
  {
   "cell_type": "code",
   "execution_count": null,
   "metadata": {
    "colab": {
     "base_uri": "https://localhost:8080/",
     "height": 67
    },
    "colab_type": "code",
    "executionInfo": {
     "elapsed": 1496,
     "status": "ok",
     "timestamp": 1599988465501,
     "user": {
      "displayName": "",
      "photoUrl": "",
      "userId": ""
     },
     "user_tz": -270
    },
    "id": "QtOLATselrx0",
    "outputId": "a63c4c23-b1bd-4332-f1dc-8974ffa1f72f"
   },
   "outputs": [
    {
     "name": "stdout",
     "output_type": "stream",
     "text": [
      "1/1 [==============================] - 0s 1ms/step - loss: 0.0321 - accuracy: 1.0000\n",
      "Final test set loss: 0.032142\n",
      "Final test set accuracy: 1.000000\n"
     ]
    }
   ],
   "source": [
    "# Test on unseen data\n",
    "results = model.evaluate(test_x, test_y)\n",
    "\n",
    "print('Final test set loss: {:4f}'.format(results[0]))\n",
    "print('Final test set accuracy: {:4f}'.format(results[1]))"
   ]
  },
  {
   "cell_type": "markdown",
   "metadata": {
    "colab_type": "text",
    "id": "A8xUQALElrx2"
   },
   "source": [
    "<div class=\"alert alert-block alert-info\">\n",
    "<div style=\"direction:rtl;text-align:right;font-family:B Lotus, B Nazanin, Tahoma\"> دوره مقدماتی یادگیری عمیق<br>علیرضا اخوان پور<br>پنج شنبه، ۱۸ و ۲۵ بهمن ۱۳۹۷<br>\n",
    "</div>\n",
    "<a href=\"http://class.vision\">Class.Vision</a> - <a href=\"http://AkhavanPour.ir\">AkhavanPour.ir</a> - <a href=\"https://github.com/Alireza-Akhavan/\">GitHub</a>\n",
    "\n",
    "</div>"
   ]
  }
 ],
 "metadata": {
  "colab": {
   "collapsed_sections": [],
   "name": "answer-ex1-mlp-iris.ipynb",
   "provenance": [
    {
     "file_id": "https://github.com/alireza-akhavan/SRU-deeplearning-workshop/blob/master/homework/ex1-mlp-iris.ipynb",
     "timestamp": 1599988488236
    }
   ]
  },
  "kernelspec": {
   "display_name": "Python 3",
   "language": "python",
   "name": "python3"
  },
  "language_info": {
   "codemirror_mode": {
    "name": "ipython",
    "version": 3
   },
   "file_extension": ".py",
   "mimetype": "text/x-python",
   "name": "python",
   "nbconvert_exporter": "python",
   "pygments_lexer": "ipython3",
   "version": "3.7.7"
  }
 },
 "nbformat": 4,
 "nbformat_minor": 1
}
